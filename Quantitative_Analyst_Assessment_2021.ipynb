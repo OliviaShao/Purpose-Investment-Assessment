{
  "cells": [
    {
      "cell_type": "markdown",
      "metadata": {
        "id": "fKF6UvQjJZv-"
      },
      "source": [
        "#  Quantitative Analyst Assessment\n",
        "Welcome to the Quantitative Analyst Assessment. To help us get to know you better, please complete the following assessment to your best knowledge and independently. We structure the test to reflect the actual analysis and problems of the Quantitative Analyst role. The right blend of analytical skills, technical skills, capital market knowledge is crucial for this role. The questions cover the following topics:\n",
        "\n",
        "- Capital Market\n",
        "- Analytical Thinking\n",
        "- Data Analysis\n",
        "- Data Visualization\n",
        "\n",
        "Although this assessment primarily intends to help us find a suitable candidate, the tools and packages used in the test are essential in modern quantitative portfolio management, data science, and machine learning. You will find similar applications outside of finance, such as [Kaggle](https://www.kaggle.com/), and it is beneficial for anyone who wants to start a career in data-related fields. We hope you get something out of this, no matter the results.\n",
        "\n",
        "All the Python packages and tools are well-documented on the web. If you encounter something new, we will encourage you to do your research. Please do not share this confidential notebook; Purpose Investments reserves all copyrights.\n",
        "\n",
        "For the recruiting purpose, we will contact suitable candidates only for the next step. Enjoy. Have fun!\n",
        "\n",
        "# Instructions\n",
        "1. Follow the **GitHub Classroom** invitation, clone or download this Jupyter Notebook (`Quantitative_Analyst_Assessment.ipynb`) to your local computer   \n",
        "2. Complete the questions in this Jupyter Notebook using either **Google Colab** or your local Jupyter server.\n",
        "3. Submit the completed notebook file via **Gitlab Classroom**\n",
        "\n",
        "------------------------------------------\n",
        "# Reference\n",
        "\n",
        "## Run Jupyter Notebook online in Google Colab (Easiest):\n",
        "*If you have never seen a Jupyter Notebook before, this is the easier way.*\n",
        "\n",
        "[Google Colab](https://colab.research.google.com/) is an online Jupyter notebook service. Once you've clone this notebook in your local computer, upload it (`Quantitative_Analyst_Assessment.ipynb`) to *Google Colab* by following the prompts. \n",
        "\n",
        "When you completed the assessment, please download the file to your local computer and submit the file in [**GitHub Classroom**](https://classroom.github.com/a/KwGpf6Mm)\n",
        "\n",
        "Here are some tutorials from Google to help you get started:\n",
        "- [Sample Notebook from Google](https://colab.research.google.com/notebooks/welcome.ipynb#)\n",
        "- [Get started with Google Colaboratory (Coding TensorFlow)](https://www.youtube.com/watch?v=inN8seMm7UI)\n",
        "\n",
        "\n",
        "## Run Jupyter Notebook on your laptop locally:\n",
        "\n",
        "Please see https://jupyter.org/\n"
      ]
    },
    {
      "cell_type": "markdown",
      "metadata": {
        "ExecuteTime": {
          "end_time": "2019-07-23T17:51:29.643787Z",
          "start_time": "2019-07-23T17:51:29.636185Z"
        },
        "id": "40ocCL-uJZwC"
      },
      "source": [
        "-----------------\n",
        "# Beginning of the Assessment"
      ]
    },
    {
      "cell_type": "code",
      "execution_count": 3,
      "metadata": {
        "ExecuteTime": {
          "end_time": "2019-07-26T21:28:15.735381Z",
          "start_time": "2019-07-26T21:28:10.676699Z"
        },
        "colab": {
          "base_uri": "https://localhost:8080/"
        },
        "id": "hiPWp7jiJZwD",
        "outputId": "e07c7263-f05e-48d4-cded-409db76c652a"
      },
      "outputs": [
        {
          "output_type": "stream",
          "name": "stdout",
          "text": [
            "Requirement already satisfied: pandas in /usr/local/lib/python3.7/dist-packages (1.3.5)\n",
            "Requirement already satisfied: numpy>=1.17.3 in /usr/local/lib/python3.7/dist-packages (from pandas) (1.21.6)\n",
            "Requirement already satisfied: python-dateutil>=2.7.3 in /usr/local/lib/python3.7/dist-packages (from pandas) (2.8.2)\n",
            "Requirement already satisfied: pytz>=2017.3 in /usr/local/lib/python3.7/dist-packages (from pandas) (2022.1)\n",
            "Requirement already satisfied: six>=1.5 in /usr/local/lib/python3.7/dist-packages (from python-dateutil>=2.7.3->pandas) (1.15.0)\n",
            "Requirement already satisfied: sympy in /usr/local/lib/python3.7/dist-packages (1.7.1)\n",
            "Requirement already satisfied: mpmath>=0.19 in /usr/local/lib/python3.7/dist-packages (from sympy) (1.2.1)\n"
          ]
        }
      ],
      "source": [
        "# Install the necessary pacakges, if needed\n",
        "!pip install pandas\n",
        "!pip install sympy"
      ]
    },
    {
      "cell_type": "code",
      "execution_count": 4,
      "metadata": {
        "ExecuteTime": {
          "end_time": "2019-07-26T21:28:24.701136Z",
          "start_time": "2019-07-26T21:28:24.050152Z"
        },
        "id": "UO6qJpf2JZwF"
      },
      "outputs": [],
      "source": [
        "# Initializing \n",
        "import pandas as pd\n",
        "import numpy as np\n",
        "import scipy.stats as si\n",
        "import sympy as sy\n",
        "#import pandas as pd # duplicated\n",
        "import requests\n",
        "import math"
      ]
    },
    {
      "cell_type": "markdown",
      "metadata": {
        "ExecuteTime": {
          "end_time": "2019-07-23T17:52:03.119361Z",
          "start_time": "2019-07-23T17:52:03.112533Z"
        },
        "id": "L8OqaTsKJZwG"
      },
      "source": [
        "## Question 0 - a\n",
        "Tell us about yourself"
      ]
    },
    {
      "cell_type": "code",
      "execution_count": 5,
      "metadata": {
        "ExecuteTime": {
          "end_time": "2021-10-12T17:03:30.011094Z",
          "start_time": "2021-10-12T17:03:30.005722Z"
        },
        "colab": {
          "base_uri": "https://localhost:8080/"
        },
        "id": "iv5pFEiUJZwG",
        "outputId": "9bafc4ea-13a0-4e7a-ccc2-8e1c4e2e8e44"
      },
      "outputs": [
        {
          "output_type": "stream",
          "name": "stdout",
          "text": [
            "My name is Olivia Shao, from University of Toronto. Always challenging but exciting.\n",
            "\n",
            "Please contact me at oliviajunrushao@gmail.com, 416-827-0837 \n"
          ]
        }
      ],
      "source": [
        "\"\"\"\n",
        "name = 'John Snow'\n",
        "#school = 'Castle Black'\n",
        "#why_interested_in_one_line = \"I want to become a Quant.\"\n",
        "#email = 'info@purposeinvest.com'\n",
        "#phone = '416-583-3850 '\n",
        "\"\"\"\n",
        "\n",
        "## Please find my answer below\n",
        "name = 'Olivia Shao'\n",
        "school = 'University of Toronto'\n",
        "why_interested_in_one_line = \"Always challenging but exciting.\"\n",
        "email = 'oliviajunrushao@gmail.com'\n",
        "phone = '416-827-0837 '\n",
        "\n",
        "print(f'My name is {name}, from {school}. {why_interested_in_one_line}\\n\\nPlease contact me at {email}, {phone}')"
      ]
    },
    {
      "cell_type": "markdown",
      "metadata": {
        "id": "VSAbMO8uJZwH"
      },
      "source": [
        "## Question 0 - b\n",
        "Will you be able to work full-time in our office in Toronto and provide proof of vaccination?"
      ]
    },
    {
      "cell_type": "code",
      "execution_count": null,
      "metadata": {
        "ExecuteTime": {
          "end_time": "2021-10-12T17:05:08.191599Z",
          "start_time": "2021-10-12T17:05:08.186098Z"
        },
        "colab": {
          "base_uri": "https://localhost:8080/"
        },
        "id": "aWZy5HCgJZwI",
        "outputId": "36aabf40-6235-4297-8207-e88e8b1a6b3b"
      },
      "outputs": [
        {
          "output_type": "stream",
          "name": "stdout",
          "text": [
            "Yes\n"
          ]
        }
      ],
      "source": [
        "\"\"\"\n",
        "print('Yes/No')\n",
        "\"\"\"\n",
        "\n",
        "## Please find my answer below\n",
        "print('Yes')"
      ]
    },
    {
      "cell_type": "markdown",
      "metadata": {
        "id": "Gns717dDJZwJ"
      },
      "source": [
        "## Question 1 - Math/Finance\n",
        "\n",
        "The Federal Reserve (Fed) will announce the federal funds rate decision tomorrow. The market expects the Fed will either keep the rate unchanged at 0.5% or cut to 0.25%. The federal funds rate equivalent treasury is trading at 0.32%. What is the implied probability `p` the Fed will cut the rate tomorrow?\n"
      ]
    },
    {
      "cell_type": "code",
      "execution_count": null,
      "metadata": {
        "ExecuteTime": {
          "end_time": "2021-10-12T17:11:44.267524Z",
          "start_time": "2021-10-12T17:11:44.263164Z"
        },
        "colab": {
          "base_uri": "https://localhost:8080/"
        },
        "id": "n560RNxuJZwL",
        "outputId": "7e490e0f-7933-4e2e-a951-7bc8aaf9cb5d"
      },
      "outputs": [
        {
          "output_type": "stream",
          "name": "stdout",
          "text": [
            "The implied probabily of the Fed cutting rate is: 72.0%\n"
          ]
        }
      ],
      "source": [
        "\"\"\"\n",
        "p = 0.99 # Please write your calculation for p here\n",
        "\"\"\"\n",
        "\n",
        "## Please find my answer below\n",
        "x = sy.Symbol('x')\n",
        "eqn = sy.Eq(x*0.25/100+(1-x)*0.5/100, 0.32/100)\n",
        "p = sy.solve(eqn)[0]\n",
        "\n",
        "print(f'The implied probabily of the Fed cutting rate is: {p:.1%}')"
      ]
    },
    {
      "cell_type": "markdown",
      "metadata": {
        "id": "usJU17n4JZwM"
      },
      "source": [
        "## Question 2 - Programming\n",
        "Given the pricing function `euro_vanilla_call` which compute the price of a European Vanilla Call option, please write the function `euro_vanilla_call_implied_vol` to compute the implied volatility to within 0.001 accuracy, using a numerical method.\n",
        "\n",
        "Hint: please use `euro_vanilla_call` in `euro_vanilla_call_implied_vol`. **Don't** try to solve it analytically."
      ]
    },
    {
      "cell_type": "code",
      "execution_count": null,
      "metadata": {
        "ExecuteTime": {
          "end_time": "2019-07-26T21:28:31.901005Z",
          "start_time": "2019-07-26T21:28:31.880608Z"
        },
        "colab": {
          "base_uri": "https://localhost:8080/"
        },
        "id": "mknvXRHgJZwM",
        "outputId": "85aff92b-095c-44e3-eccd-8ff837da3ab0"
      },
      "outputs": [
        {
          "output_type": "stream",
          "name": "stdout",
          "text": [
            "The price of the call option is 2.513, given sigma = 0.250\n"
          ]
        }
      ],
      "source": [
        "## Do not change this cell\n",
        "def euro_vanilla_call(S, K, T, r, sigma):\n",
        "    \n",
        "    #S: spot price\n",
        "    #K: strike price\n",
        "    #T: time to maturity\n",
        "    #r: interest rate\n",
        "    #sigma: volatility of underlying asset\n",
        "    \n",
        "    d1 = (np.log(S / K) + (r + 0.5 * sigma ** 2) * T) / (sigma * np.sqrt(T))\n",
        "    d2 = (np.log(S / K) + (r - 0.5 * sigma ** 2) * T) / (sigma * np.sqrt(T))\n",
        "    \n",
        "    call = (S * si.norm.cdf(d1, 0.0, 1.0) - K * np.exp(-r * T) * si.norm.cdf(d2, 0.0, 1.0))\n",
        "    \n",
        "    return call\n",
        "\n",
        "sigma = 0.25\n",
        "P = euro_vanilla_call(50, 60, 1, 0.05, sigma)\n",
        "print(f'The price of the call option is {P:.3f}, given sigma = {sigma:.3f}')"
      ]
    },
    {
      "cell_type": "markdown",
      "metadata": {
        "id": "h8fJXBejJZwN"
      },
      "source": [
        "Complete the function `euro_vanilla_call_implied_vol` in the following cell"
      ]
    },
    {
      "cell_type": "code",
      "execution_count": null,
      "metadata": {
        "ExecuteTime": {
          "end_time": "2019-07-26T21:28:34.178843Z",
          "start_time": "2019-07-26T21:28:34.169926Z"
        },
        "colab": {
          "base_uri": "https://localhost:8080/"
        },
        "id": "rSiuTLtXJZwN",
        "outputId": "144a1f11-2f3d-4f87-bed2-5c4bcf63ce3e"
      },
      "outputs": [
        {
          "output_type": "stream",
          "name": "stdout",
          "text": [
            "Number of Iterations: 2\n",
            "Number of Iterations: 3\n",
            "Number of Iterations: 4\n",
            "Number of Iterations: 5\n",
            "The computed sigma is 0.250, given oringal sigma = 0.250\n"
          ]
        }
      ],
      "source": [
        "def euro_vanilla_call_implied_vol(S, K, T, r, P):\n",
        "    #S: spot price\n",
        "    #K: strike price\n",
        "    #T: time to maturity\n",
        "    #r: interest rater\n",
        "    #P: market price of the option\n",
        "    \n",
        "    ##### Write your codes here ######\n",
        "    #sigma_compute = 0\n",
        "\n",
        "    ## Please find my answer below\n",
        "    # To solve the equation numerically, I implement the Newton's method because Newton's method usually converges very quickly\n",
        "    # Since Newton's method also requires computing values of the derivative of the function, I use forward difference method. \n",
        "    tol = 0.001\n",
        "    epsilon = 0.00001\n",
        "    num_iterations = 1\n",
        "    sigma_compute = (P/S) * math.sqrt ( 2* math.pi / T) # for ATMF option, sigma is easily computed. Thus, it could be used as a initial guess\n",
        "\n",
        "    diff = euro_vanilla_call(S,K,T,r,sigma_compute)- P\n",
        "\n",
        "    while (abs(diff) > tol):            \n",
        "      diff = euro_vanilla_call(S,K,T,r,sigma_compute)- P\n",
        "      BS_prime = (euro_vanilla_call(S,K,T,r,sigma_compute+epsilon)-euro_vanilla_call(S,K,T,r,sigma_compute))/(epsilon) \n",
        "      sigma_compute = sigma_compute - diff/BS_prime # f(x) / f'(x)\n",
        "      num_iterations+=1 \n",
        "      print (f'Number of Iterations: {num_iterations}')\n",
        "    return sigma_compute\n",
        "\n",
        "\n",
        "sigma_compute = euro_vanilla_call_implied_vol(50, 60, 1, 0.05, P)\n",
        "\n",
        "print(f'The computed sigma is {sigma_compute:.3f}, given oringal sigma = {sigma:.3f}')\n"
      ]
    },
    {
      "cell_type": "markdown",
      "metadata": {
        "id": "Ss7LorljJZwO"
      },
      "source": [
        "# Question 3 - Data Manipulation\n",
        "At Purpose Investments, we have a public REST API for our fund data. The following example shows how to get the data for the Purpose Core Dividend Fund (symbol `PDF`) in Python. Please write the function `get_funds_latest_nav` to retrieve the lastest NAV of all the fund series, given a list of fund tickers"
      ]
    },
    {
      "cell_type": "code",
      "execution_count": null,
      "metadata": {
        "ExecuteTime": {
          "end_time": "2021-10-12T17:12:04.695896Z",
          "start_time": "2021-10-12T17:12:02.656334Z"
        },
        "id": "V4c5ffbCJZwO"
      },
      "outputs": [],
      "source": [
        "# Example\n",
        "import requests\n",
        "fund_ticker = 'PDF'\n",
        "PDF_data = requests.get(f'https://insights.purposelp.com/api/v2/funds/{fund_ticker}/').json()"
      ]
    },
    {
      "cell_type": "code",
      "execution_count": null,
      "metadata": {
        "ExecuteTime": {
          "end_time": "2021-10-12T17:12:05.702387Z",
          "start_time": "2021-10-12T17:12:05.689753Z"
        },
        "colab": {
          "base_uri": "https://localhost:8080/"
        },
        "id": "ATSRMW4kJZwO",
        "outputId": "5f12f417-6678-4ca0-a6a7-c6da1de7c3b3"
      },
      "outputs": [
        {
          "output_type": "execute_result",
          "data": {
            "text/plain": [
              "31.72951192"
            ]
          },
          "metadata": {},
          "execution_count": 32
        }
      ],
      "source": [
        "# lastest NAV of PDF series ETF\n",
        "PDF_data['series']['ETF']['latest_nav']['value']"
      ]
    },
    {
      "cell_type": "code",
      "execution_count": null,
      "metadata": {
        "ExecuteTime": {
          "end_time": "2021-10-12T17:12:06.806609Z",
          "start_time": "2021-10-12T17:12:06.797041Z"
        },
        "colab": {
          "base_uri": "https://localhost:8080/"
        },
        "id": "GNIOZv9kJZwP",
        "outputId": "915dda1a-edec-4ede-e0d2-47eca97d36f8"
      },
      "outputs": [
        {
          "output_type": "stream",
          "name": "stdout",
          "text": [
            "{'symbol': 'PDF', 'series': 'A', 'latest_nav': 29.14341023}\n",
            "{'symbol': 'PDF', 'series': 'D', 'latest_nav': 0.0}\n",
            "{'symbol': 'PDF', 'series': 'F', 'latest_nav': 31.79569522}\n",
            "{'symbol': 'PDF', 'series': 'I', 'latest_nav': 36.74147605}\n",
            "{'symbol': 'PDF', 'series': 'P', 'latest_nav': 25.28462177}\n",
            "{'symbol': 'PDF', 'series': 'XA', 'latest_nav': 22.66607906}\n",
            "{'symbol': 'PDF', 'series': 'XF', 'latest_nav': 24.4804139}\n",
            "{'symbol': 'PDF', 'series': 'ETF', 'latest_nav': 31.72951192}\n",
            "{'symbol': 'PDF', 'series': 'XUA', 'latest_nav': 23.80790668}\n",
            "{'symbol': 'PDF', 'series': 'XUF', 'latest_nav': 21.82351416}\n",
            "{'symbol': 'PYF', 'series': 'A', 'latest_nav': 15.6278797}\n",
            "{'symbol': 'PYF', 'series': 'F', 'latest_nav': 16.932049}\n",
            "{'symbol': 'PYF', 'series': 'P', 'latest_nav': 17.8725414}\n",
            "{'symbol': 'PYF', 'series': 'XA', 'latest_nav': 15.70400593}\n",
            "{'symbol': 'PYF', 'series': 'XF', 'latest_nav': 16.76081197}\n",
            "{'symbol': 'PYF', 'series': 'A B', 'latest_nav': 23.59246504}\n",
            "{'symbol': 'PYF', 'series': 'ETF', 'latest_nav': 16.91558344}\n",
            "{'symbol': 'PYF', 'series': 'F B', 'latest_nav': 24.14863617}\n",
            "{'symbol': 'PYF', 'series': 'XUF', 'latest_nav': 19.5536178}\n",
            "{'symbol': 'PYF', 'series': 'A USD', 'latest_nav': 18.25618279}\n",
            "{'symbol': 'PYF', 'series': 'ETF B', 'latest_nav': 18.2373774}\n",
            "{'symbol': 'PYF', 'series': 'F USD', 'latest_nav': 18.68655586}\n",
            "{'symbol': 'PYF', 'series': 'ETF USD', 'latest_nav': 18.85578087}\n"
          ]
        }
      ],
      "source": [
        "def get_funds_latest_nav(fund_tickers):\n",
        "    \"\"\"\n",
        "    fund_tickers: a list of purpose fund_tickers. e.g. ['PDF','PYF']\n",
        "    output: list of dictionary\n",
        "        [\n",
        "        {'symbol':'PDF','series':'ETF','latest_nav':26.61137943},\n",
        "        {'symbol':'PDF','series':'A','latest_nav':24.61137943},\n",
        "        {'symbol':'PYF','series':'A','latest_nav':24.61137943},\n",
        "        {'symbol':'PYF','series':'ETF','latest_nav':24.61137943}\n",
        "        ]\n",
        "        \n",
        "    \"\"\"\n",
        "    ## Please find my answer below \n",
        "    result = []\n",
        "    Data = requests.get(f'https://insights.purposelp.com/api/v2/funds/').json() # Import data\n",
        "    # Loop over required fund tickers\n",
        "    for fund in fund_tickers:\n",
        "      temp_dict = Data[fund]\n",
        "      num = len(temp_dict['series'])\n",
        "      temp_series = list(temp_dict['series'])\n",
        "      # Loop over all the series given a fund ticker\n",
        "      for i in range(num):\n",
        "        series_name = temp_series[i]\n",
        "        nav = temp_dict['series'][series_name]['latest_nav']['value']\n",
        "        result.append({'symbol':fund,'series':series_name,'latest_nav':nav})\n",
        "    return result\n",
        "\n",
        "## Test case\n",
        "# fund_tickers = ['PDF','PYF']\n",
        "# latest_nav = get_funds_latest_nav(fund_tickers)\n"
      ]
    },
    {
      "cell_type": "markdown",
      "metadata": {
        "id": "_TV0SxP4JZwP"
      },
      "source": [
        "# Question 4 - Data Visualization\n",
        "The following is the backtested equity curve of an option strategy. The data is in `df_plot`. Please reproduce the graph as close as possible with your choice of plotting library. We used `matplotlib` to generate the original graph.\n",
        "\n",
        "![title](https://purpose-insights-public-statics.s3.amazonaws.com/data/df_plot.PNG)"
      ]
    },
    {
      "cell_type": "code",
      "execution_count": null,
      "metadata": {
        "ExecuteTime": {
          "end_time": "2021-10-12T17:12:19.682839Z",
          "start_time": "2021-10-12T17:12:19.478871Z"
        },
        "colab": {
          "base_uri": "https://localhost:8080/",
          "height": 238
        },
        "id": "_s07s7_ZJZwQ",
        "outputId": "0b5f09c3-a7c0-42ff-f5f3-c39132e33eb1"
      },
      "outputs": [
        {
          "output_type": "execute_result",
          "data": {
            "text/plain": [
              "             portfolio  underlying        action\n",
              "date                                            \n",
              "2011-01-03  100.676864  100.000000  new_contract\n",
              "2011-01-04  105.513118  100.945903           NaN\n",
              "2011-01-05  105.475600  101.454325           NaN\n",
              "2011-01-06  105.584545  101.267927           NaN\n",
              "2011-01-07  105.596710  101.085006           NaN"
            ],
            "text/html": [
              "\n",
              "  <div id=\"df-64aa61b2-14fa-445a-89fd-c61a2673669e\">\n",
              "    <div class=\"colab-df-container\">\n",
              "      <div>\n",
              "<style scoped>\n",
              "    .dataframe tbody tr th:only-of-type {\n",
              "        vertical-align: middle;\n",
              "    }\n",
              "\n",
              "    .dataframe tbody tr th {\n",
              "        vertical-align: top;\n",
              "    }\n",
              "\n",
              "    .dataframe thead th {\n",
              "        text-align: right;\n",
              "    }\n",
              "</style>\n",
              "<table border=\"1\" class=\"dataframe\">\n",
              "  <thead>\n",
              "    <tr style=\"text-align: right;\">\n",
              "      <th></th>\n",
              "      <th>portfolio</th>\n",
              "      <th>underlying</th>\n",
              "      <th>action</th>\n",
              "    </tr>\n",
              "    <tr>\n",
              "      <th>date</th>\n",
              "      <th></th>\n",
              "      <th></th>\n",
              "      <th></th>\n",
              "    </tr>\n",
              "  </thead>\n",
              "  <tbody>\n",
              "    <tr>\n",
              "      <th>2011-01-03</th>\n",
              "      <td>100.676864</td>\n",
              "      <td>100.000000</td>\n",
              "      <td>new_contract</td>\n",
              "    </tr>\n",
              "    <tr>\n",
              "      <th>2011-01-04</th>\n",
              "      <td>105.513118</td>\n",
              "      <td>100.945903</td>\n",
              "      <td>NaN</td>\n",
              "    </tr>\n",
              "    <tr>\n",
              "      <th>2011-01-05</th>\n",
              "      <td>105.475600</td>\n",
              "      <td>101.454325</td>\n",
              "      <td>NaN</td>\n",
              "    </tr>\n",
              "    <tr>\n",
              "      <th>2011-01-06</th>\n",
              "      <td>105.584545</td>\n",
              "      <td>101.267927</td>\n",
              "      <td>NaN</td>\n",
              "    </tr>\n",
              "    <tr>\n",
              "      <th>2011-01-07</th>\n",
              "      <td>105.596710</td>\n",
              "      <td>101.085006</td>\n",
              "      <td>NaN</td>\n",
              "    </tr>\n",
              "  </tbody>\n",
              "</table>\n",
              "</div>\n",
              "      <button class=\"colab-df-convert\" onclick=\"convertToInteractive('df-64aa61b2-14fa-445a-89fd-c61a2673669e')\"\n",
              "              title=\"Convert this dataframe to an interactive table.\"\n",
              "              style=\"display:none;\">\n",
              "        \n",
              "  <svg xmlns=\"http://www.w3.org/2000/svg\" height=\"24px\"viewBox=\"0 0 24 24\"\n",
              "       width=\"24px\">\n",
              "    <path d=\"M0 0h24v24H0V0z\" fill=\"none\"/>\n",
              "    <path d=\"M18.56 5.44l.94 2.06.94-2.06 2.06-.94-2.06-.94-.94-2.06-.94 2.06-2.06.94zm-11 1L8.5 8.5l.94-2.06 2.06-.94-2.06-.94L8.5 2.5l-.94 2.06-2.06.94zm10 10l.94 2.06.94-2.06 2.06-.94-2.06-.94-.94-2.06-.94 2.06-2.06.94z\"/><path d=\"M17.41 7.96l-1.37-1.37c-.4-.4-.92-.59-1.43-.59-.52 0-1.04.2-1.43.59L10.3 9.45l-7.72 7.72c-.78.78-.78 2.05 0 2.83L4 21.41c.39.39.9.59 1.41.59.51 0 1.02-.2 1.41-.59l7.78-7.78 2.81-2.81c.8-.78.8-2.07 0-2.86zM5.41 20L4 18.59l7.72-7.72 1.47 1.35L5.41 20z\"/>\n",
              "  </svg>\n",
              "      </button>\n",
              "      \n",
              "  <style>\n",
              "    .colab-df-container {\n",
              "      display:flex;\n",
              "      flex-wrap:wrap;\n",
              "      gap: 12px;\n",
              "    }\n",
              "\n",
              "    .colab-df-convert {\n",
              "      background-color: #E8F0FE;\n",
              "      border: none;\n",
              "      border-radius: 50%;\n",
              "      cursor: pointer;\n",
              "      display: none;\n",
              "      fill: #1967D2;\n",
              "      height: 32px;\n",
              "      padding: 0 0 0 0;\n",
              "      width: 32px;\n",
              "    }\n",
              "\n",
              "    .colab-df-convert:hover {\n",
              "      background-color: #E2EBFA;\n",
              "      box-shadow: 0px 1px 2px rgba(60, 64, 67, 0.3), 0px 1px 3px 1px rgba(60, 64, 67, 0.15);\n",
              "      fill: #174EA6;\n",
              "    }\n",
              "\n",
              "    [theme=dark] .colab-df-convert {\n",
              "      background-color: #3B4455;\n",
              "      fill: #D2E3FC;\n",
              "    }\n",
              "\n",
              "    [theme=dark] .colab-df-convert:hover {\n",
              "      background-color: #434B5C;\n",
              "      box-shadow: 0px 1px 3px 1px rgba(0, 0, 0, 0.15);\n",
              "      filter: drop-shadow(0px 1px 2px rgba(0, 0, 0, 0.3));\n",
              "      fill: #FFFFFF;\n",
              "    }\n",
              "  </style>\n",
              "\n",
              "      <script>\n",
              "        const buttonEl =\n",
              "          document.querySelector('#df-64aa61b2-14fa-445a-89fd-c61a2673669e button.colab-df-convert');\n",
              "        buttonEl.style.display =\n",
              "          google.colab.kernel.accessAllowed ? 'block' : 'none';\n",
              "\n",
              "        async function convertToInteractive(key) {\n",
              "          const element = document.querySelector('#df-64aa61b2-14fa-445a-89fd-c61a2673669e');\n",
              "          const dataTable =\n",
              "            await google.colab.kernel.invokeFunction('convertToInteractive',\n",
              "                                                     [key], {});\n",
              "          if (!dataTable) return;\n",
              "\n",
              "          const docLinkHtml = 'Like what you see? Visit the ' +\n",
              "            '<a target=\"_blank\" href=https://colab.research.google.com/notebooks/data_table.ipynb>data table notebook</a>'\n",
              "            + ' to learn more about interactive tables.';\n",
              "          element.innerHTML = '';\n",
              "          dataTable['output_type'] = 'display_data';\n",
              "          await google.colab.output.renderOutput(dataTable, element);\n",
              "          const docLink = document.createElement('div');\n",
              "          docLink.innerHTML = docLinkHtml;\n",
              "          element.appendChild(docLink);\n",
              "        }\n",
              "      </script>\n",
              "    </div>\n",
              "  </div>\n",
              "  "
            ]
          },
          "metadata": {},
          "execution_count": 48
        }
      ],
      "source": [
        "# Download data and show the top 5 rows\n",
        "df_plot = pd.read_csv('https://purpose-insights-public-statics.s3.amazonaws.com/data/df_plot.csv').set_index('date')\n",
        "df_plot.head()"
      ]
    },
    {
      "cell_type": "code",
      "execution_count": 9,
      "metadata": {
        "ExecuteTime": {
          "end_time": "2021-10-12T17:12:21.404893Z",
          "start_time": "2021-10-12T17:12:21.402295Z"
        },
        "colab": {
          "base_uri": "https://localhost:8080/",
          "height": 405
        },
        "id": "0kYgfEhmJZwQ",
        "outputId": "4f1dc42a-b15b-4e31-c546-b81557ea9117"
      },
      "outputs": [
        {
          "output_type": "display_data",
          "data": {
            "text/plain": [
              "<Figure size 756x396 with 1 Axes>"
            ],
            "image/png": "[encoded data removed]"
          },
          "metadata": {
            "needs_background": "light"
          }
        }
      ],
      "source": [
        "# Write the plotting codes here please\n",
        "import matplotlib.pyplot as plt\n",
        "from matplotlib import dates as mdates\n",
        "import matplotlib as mpl\n",
        "import matplotlib.colors as mcolors\n",
        "\n",
        "\n",
        "df = pd.read_csv('https://purpose-insights-public-statics.s3.amazonaws.com/data/df_plot.csv')\n",
        "price_date = pd.to_datetime(df['date'])\n",
        "xsp_Note = df['portfolio']\n",
        "xsp = df['underlying']\n",
        "xsp_Note_call = df.loc[df.action=='up_call']\n",
        "xsp_Note_call_date = pd.to_datetime(xsp_Note_call['date'])\n",
        "xsp_Note_call_price =xsp_Note_call['portfolio']\n",
        "\n",
        "# tick the x-axis\n",
        "plt.rcParams[\"figure.figsize\"] = (10.5,5.5)\n",
        "years = mdates.YearLocator()\n",
        "yearsFmt = mdates.DateFormatter('%Y')  # add some space for the year label\n",
        "dts = price_date.dt.to_pydatetime()\n",
        "fig = plt.figure(); ax = fig.add_subplot(111)\n",
        "\n",
        "ax.plot(dts,xsp,color='#CD5C5C',linewidth=2)\n",
        "ax.plot(dts, xsp_Note,color='#6495ED',linewidth=2) \n",
        "ax.plot(xsp_Note_call_date, xsp_Note_call_price,\"*\",mec = '#9370DB', mfc = '#9370DB',markersize=15.5) \n",
        "\n",
        "# tick the x-axis\n",
        "plt.xticks(plt.xticks()[0],  rotation=45)\n",
        "ax.xaxis.set_major_locator(years)\n",
        "ax.xaxis.set_major_formatter(yearsFmt)\n",
        "\n",
        "# remove the first x-lable\n",
        "x_ticks = ax.xaxis.get_major_ticks()\n",
        "x_ticks[0].label1.set_visible(False)\n",
        "\n",
        "# format backgroud\n",
        "plt.grid(linestyle='-')\n",
        "mpl.rcParams['grid.color'] = 'white'\n",
        "ax.set_facecolor('#DCDCDC')\n",
        "\n",
        "# Add title and axis names\n",
        "plt.title(\"xsp Underlying v.s. Note\",fontsize=15)\n",
        "plt.xlabel('date',fontsize=12)\n",
        "\n",
        "# remove frame\n",
        "ax.spines['top'].set_visible(False)\n",
        "ax.spines['right'].set_visible(False)\n",
        "ax.spines['bottom'].set_visible(False)\n",
        "ax.spines['left'].set_visible(False)\n",
        "\n",
        "# add lengent\n",
        "plt.gca().legend(('xsp','xsp Note','Upper Barrier Called'),loc='upper left',facecolor='#DCDCDC')\n",
        "plt.tight_layout()\n",
        "plt.show()\n",
        "\n",
        "\n",
        "\n"
      ]
    },
    {
      "cell_type": "markdown",
      "metadata": {
        "id": "uzASruP9JZwQ"
      },
      "source": [
        "# Question 5 - Quantitative Investing\n",
        "The Factor is a significant concept in quantitative investing. A factor usually represents a common attribute among different stocks. For example, both Apple and Microsoft are in the technology sector. Then, one might find that Technology is a factor. Here are some further readings:\n",
        "\n",
        "- [Fama and French Factor Model](https://www.investopedia.com/terms/f/famaandfrenchthreefactormodel.asp)\n",
        "- [Factor Investing](https://www.investopedia.com/terms/f/factor-investing.asp)\n",
        "\n",
        "**Value** and **Momentum** are two of the most prevalent factors with plenty of research and application. For the S&P 500 index, you are given the historical prices (dataframe `prices`) and fundamental data (dataframe `fundamentals`) of all the index members. Please programmatically create a strategy to pick 50 stocks within the index, which rebalance quarterly, utilizing the **Value** and **Momentum** factors. Please also provide a brief explanation and put the output in `df_value` and `df_momentum` respectively. Any backtest or statistics that show to justify your strategy is better than the S&P500 will be a plus.\n",
        "\n",
        "You will need [pandas](https://pandas.pydata.org/) to complete this question.\n",
        "\n",
        "Please note that this is an open-ended question and an important topic we continue to research on."
      ]
    },
    {
      "cell_type": "code",
      "execution_count": 124,
      "metadata": {
        "ExecuteTime": {
          "end_time": "2021-10-12T17:56:08.100126Z",
          "start_time": "2021-10-12T17:56:06.516859Z"
        },
        "id": "UAKOxhk0JZwR"
      },
      "outputs": [],
      "source": [
        "# Download the data\n",
        "prices = pd.read_csv('https://purpose-insights-public-statics.s3.amazonaws.com/data/prices.csv').set_index('date')\n",
        "fundamentals = pd.read_csv('https://purpose-insights-public-statics.s3.amazonaws.com/data/fundamentals.csv').set_index('ticker')"
      ]
    },
    {
      "cell_type": "code",
      "execution_count": 125,
      "metadata": {
        "ExecuteTime": {
          "end_time": "2021-10-12T17:56:09.243193Z",
          "start_time": "2021-10-12T17:56:09.217416Z"
        },
        "colab": {
          "base_uri": "https://localhost:8080/",
          "height": 504
        },
        "id": "OSbGpYS3JZwR",
        "outputId": "e796c820-c8bc-44fd-e11e-f3bb013767f5"
      },
      "outputs": [
        {
          "output_type": "execute_result",
          "data": {
            "text/plain": [
              "                AVG_DAILY_VALUE_TRADED_6M  BEST_DIV_YLD  BEST_PE_RATIO  \\\n",
              "ticker                                                                   \n",
              "XYL UN Equity                  18552936.0           NaN      24.384707   \n",
              "YUM UN Equity                  44528340.0      1.518486      29.195580   \n",
              "ZBH UN Equity                  32847866.0      0.784860      16.400099   \n",
              "ZION UW Equity                 39030464.0      3.168094      10.280287   \n",
              "ZTS UN Equity                  57066312.0      0.575816      32.711187   \n",
              "\n",
              "               CNTRY_OF_RISK COUNTRY COUNTRY_FULL_NAME CRNCY   CUR_MKT_CAP  \\\n",
              "ticker                                                                       \n",
              "XYL UN Equity             US      US     UNITED STATES   USD  1.468973e+10   \n",
              "YUM UN Equity             US      US     UNITED STATES   USD  3.475877e+10   \n",
              "ZBH UN Equity             US      US     UNITED STATES   USD  2.721564e+10   \n",
              "ZION UW Equity            US      US     UNITED STATES   USD  7.852375e+09   \n",
              "ZTS UN Equity             US      US     UNITED STATES   USD  5.486357e+10   \n",
              "\n",
              "                EV_EBITA_ADJUSTED        GICS_SECTOR_NAME  ...  \\\n",
              "ticker                                                     ...   \n",
              "XYL UN Equity           16.335179             Industrials  ...   \n",
              "YUM UN Equity           21.428785  Consumer Discretionary  ...   \n",
              "ZBH UN Equity           13.342171             Health Care  ...   \n",
              "ZION UW Equity                NaN              Financials  ...   \n",
              "ZTS UN Equity           21.279759             Health Care  ...   \n",
              "\n",
              "                            LONG_COMP_NAME MOV_AVG_100D  MOV_AVG_50D  \\\n",
              "ticker                                                                 \n",
              "XYL UN Equity                 Xylem Inc/NY    79.624702    79.684196   \n",
              "YUM UN Equity              Yum! Brands Inc   104.229401   108.015404   \n",
              "ZBH UN Equity   Zimmer Biomet Holdings Inc   121.615700   118.630402   \n",
              "ZION UW Equity            Zions Bancorp NA    46.324100    44.806599   \n",
              "ZTS UN Equity                   Zoetis Inc   104.998199   110.164597   \n",
              "\n",
              "                NUMBER_OF_WOMEN_ON_BOARD  PCT_WOMEN_ON_BOARD  \\\n",
              "ticker                                                         \n",
              "XYL UN Equity                        2.0           20.000000   \n",
              "YUM UN Equity                        3.0           27.272699   \n",
              "ZBH UN Equity                        3.0           27.272699   \n",
              "ZION UW Equity                       2.0           18.181801   \n",
              "ZTS UN Equity                        2.0           18.181801   \n",
              "\n",
              "                PX_TO_BOOK_RATIO  PX_TO_FREE_CASH_FLOW  SALES_5YR_AVG_GR  \\\n",
              "ticker                                                                     \n",
              "XYL UN Equity           5.252874             40.652859          7.060127   \n",
              "YUM UN Equity                NaN             34.040405        -12.458436   \n",
              "ZBH UN Equity           2.333663             28.626089         13.436156   \n",
              "ZION UW Equity          1.116504             11.660300          8.545248   \n",
              "ZTS UN Equity          23.697005             38.254128          5.864108   \n",
              "\n",
              "                SALES_GROWTH  CRNCY_TICKER  \n",
              "ticker                                      \n",
              "XYL UN Equity      10.622477    USD Curncy  \n",
              "YUM UN Equity      -3.232392    USD Curncy  \n",
              "ZBH UN Equity       1.660836    USD Curncy  \n",
              "ZION UW Equity     10.855263    USD Curncy  \n",
              "ZTS UN Equity       9.760693    USD Curncy  \n",
              "\n",
              "[5 rows x 21 columns]"
            ],
            "text/html": [
              "\n",
              "  <div id=\"df-992be70d-a88b-4904-8998-7e509d5084d7\">\n",
              "    <div class=\"colab-df-container\">\n",
              "      <div>\n",
              "<style scoped>\n",
              "    .dataframe tbody tr th:only-of-type {\n",
              "        vertical-align: middle;\n",
              "    }\n",
              "\n",
              "    .dataframe tbody tr th {\n",
              "        vertical-align: top;\n",
              "    }\n",
              "\n",
              "    .dataframe thead th {\n",
              "        text-align: right;\n",
              "    }\n",
              "</style>\n",
              "<table border=\"1\" class=\"dataframe\">\n",
              "  <thead>\n",
              "    <tr style=\"text-align: right;\">\n",
              "      <th></th>\n",
              "      <th>AVG_DAILY_VALUE_TRADED_6M</th>\n",
              "      <th>BEST_DIV_YLD</th>\n",
              "      <th>BEST_PE_RATIO</th>\n",
              "      <th>CNTRY_OF_RISK</th>\n",
              "      <th>COUNTRY</th>\n",
              "      <th>COUNTRY_FULL_NAME</th>\n",
              "      <th>CRNCY</th>\n",
              "      <th>CUR_MKT_CAP</th>\n",
              "      <th>EV_EBITA_ADJUSTED</th>\n",
              "      <th>GICS_SECTOR_NAME</th>\n",
              "      <th>...</th>\n",
              "      <th>LONG_COMP_NAME</th>\n",
              "      <th>MOV_AVG_100D</th>\n",
              "      <th>MOV_AVG_50D</th>\n",
              "      <th>NUMBER_OF_WOMEN_ON_BOARD</th>\n",
              "      <th>PCT_WOMEN_ON_BOARD</th>\n",
              "      <th>PX_TO_BOOK_RATIO</th>\n",
              "      <th>PX_TO_FREE_CASH_FLOW</th>\n",
              "      <th>SALES_5YR_AVG_GR</th>\n",
              "      <th>SALES_GROWTH</th>\n",
              "      <th>CRNCY_TICKER</th>\n",
              "    </tr>\n",
              "    <tr>\n",
              "      <th>ticker</th>\n",
              "      <th></th>\n",
              "      <th></th>\n",
              "      <th></th>\n",
              "      <th></th>\n",
              "      <th></th>\n",
              "      <th></th>\n",
              "      <th></th>\n",
              "      <th></th>\n",
              "      <th></th>\n",
              "      <th></th>\n",
              "      <th></th>\n",
              "      <th></th>\n",
              "      <th></th>\n",
              "      <th></th>\n",
              "      <th></th>\n",
              "      <th></th>\n",
              "      <th></th>\n",
              "      <th></th>\n",
              "      <th></th>\n",
              "      <th></th>\n",
              "      <th></th>\n",
              "    </tr>\n",
              "  </thead>\n",
              "  <tbody>\n",
              "    <tr>\n",
              "      <th>XYL UN Equity</th>\n",
              "      <td>18552936.0</td>\n",
              "      <td>NaN</td>\n",
              "      <td>24.384707</td>\n",
              "      <td>US</td>\n",
              "      <td>US</td>\n",
              "      <td>UNITED STATES</td>\n",
              "      <td>USD</td>\n",
              "      <td>1.468973e+10</td>\n",
              "      <td>16.335179</td>\n",
              "      <td>Industrials</td>\n",
              "      <td>...</td>\n",
              "      <td>Xylem Inc/NY</td>\n",
              "      <td>79.624702</td>\n",
              "      <td>79.684196</td>\n",
              "      <td>2.0</td>\n",
              "      <td>20.000000</td>\n",
              "      <td>5.252874</td>\n",
              "      <td>40.652859</td>\n",
              "      <td>7.060127</td>\n",
              "      <td>10.622477</td>\n",
              "      <td>USD Curncy</td>\n",
              "    </tr>\n",
              "    <tr>\n",
              "      <th>YUM UN Equity</th>\n",
              "      <td>44528340.0</td>\n",
              "      <td>1.518486</td>\n",
              "      <td>29.195580</td>\n",
              "      <td>US</td>\n",
              "      <td>US</td>\n",
              "      <td>UNITED STATES</td>\n",
              "      <td>USD</td>\n",
              "      <td>3.475877e+10</td>\n",
              "      <td>21.428785</td>\n",
              "      <td>Consumer Discretionary</td>\n",
              "      <td>...</td>\n",
              "      <td>Yum! Brands Inc</td>\n",
              "      <td>104.229401</td>\n",
              "      <td>108.015404</td>\n",
              "      <td>3.0</td>\n",
              "      <td>27.272699</td>\n",
              "      <td>NaN</td>\n",
              "      <td>34.040405</td>\n",
              "      <td>-12.458436</td>\n",
              "      <td>-3.232392</td>\n",
              "      <td>USD Curncy</td>\n",
              "    </tr>\n",
              "    <tr>\n",
              "      <th>ZBH UN Equity</th>\n",
              "      <td>32847866.0</td>\n",
              "      <td>0.784860</td>\n",
              "      <td>16.400099</td>\n",
              "      <td>US</td>\n",
              "      <td>US</td>\n",
              "      <td>UNITED STATES</td>\n",
              "      <td>USD</td>\n",
              "      <td>2.721564e+10</td>\n",
              "      <td>13.342171</td>\n",
              "      <td>Health Care</td>\n",
              "      <td>...</td>\n",
              "      <td>Zimmer Biomet Holdings Inc</td>\n",
              "      <td>121.615700</td>\n",
              "      <td>118.630402</td>\n",
              "      <td>3.0</td>\n",
              "      <td>27.272699</td>\n",
              "      <td>2.333663</td>\n",
              "      <td>28.626089</td>\n",
              "      <td>13.436156</td>\n",
              "      <td>1.660836</td>\n",
              "      <td>USD Curncy</td>\n",
              "    </tr>\n",
              "    <tr>\n",
              "      <th>ZION UW Equity</th>\n",
              "      <td>39030464.0</td>\n",
              "      <td>3.168094</td>\n",
              "      <td>10.280287</td>\n",
              "      <td>US</td>\n",
              "      <td>US</td>\n",
              "      <td>UNITED STATES</td>\n",
              "      <td>USD</td>\n",
              "      <td>7.852375e+09</td>\n",
              "      <td>NaN</td>\n",
              "      <td>Financials</td>\n",
              "      <td>...</td>\n",
              "      <td>Zions Bancorp NA</td>\n",
              "      <td>46.324100</td>\n",
              "      <td>44.806599</td>\n",
              "      <td>2.0</td>\n",
              "      <td>18.181801</td>\n",
              "      <td>1.116504</td>\n",
              "      <td>11.660300</td>\n",
              "      <td>8.545248</td>\n",
              "      <td>10.855263</td>\n",
              "      <td>USD Curncy</td>\n",
              "    </tr>\n",
              "    <tr>\n",
              "      <th>ZTS UN Equity</th>\n",
              "      <td>57066312.0</td>\n",
              "      <td>0.575816</td>\n",
              "      <td>32.711187</td>\n",
              "      <td>US</td>\n",
              "      <td>US</td>\n",
              "      <td>UNITED STATES</td>\n",
              "      <td>USD</td>\n",
              "      <td>5.486357e+10</td>\n",
              "      <td>21.279759</td>\n",
              "      <td>Health Care</td>\n",
              "      <td>...</td>\n",
              "      <td>Zoetis Inc</td>\n",
              "      <td>104.998199</td>\n",
              "      <td>110.164597</td>\n",
              "      <td>2.0</td>\n",
              "      <td>18.181801</td>\n",
              "      <td>23.697005</td>\n",
              "      <td>38.254128</td>\n",
              "      <td>5.864108</td>\n",
              "      <td>9.760693</td>\n",
              "      <td>USD Curncy</td>\n",
              "    </tr>\n",
              "  </tbody>\n",
              "</table>\n",
              "<p>5 rows × 21 columns</p>\n",
              "</div>\n",
              "      <button class=\"colab-df-convert\" onclick=\"convertToInteractive('df-992be70d-a88b-4904-8998-7e509d5084d7')\"\n",
              "              title=\"Convert this dataframe to an interactive table.\"\n",
              "              style=\"display:none;\">\n",
              "        \n",
              "  <svg xmlns=\"http://www.w3.org/2000/svg\" height=\"24px\"viewBox=\"0 0 24 24\"\n",
              "       width=\"24px\">\n",
              "    <path d=\"M0 0h24v24H0V0z\" fill=\"none\"/>\n",
              "    <path d=\"M18.56 5.44l.94 2.06.94-2.06 2.06-.94-2.06-.94-.94-2.06-.94 2.06-2.06.94zm-11 1L8.5 8.5l.94-2.06 2.06-.94-2.06-.94L8.5 2.5l-.94 2.06-2.06.94zm10 10l.94 2.06.94-2.06 2.06-.94-2.06-.94-.94-2.06-.94 2.06-2.06.94z\"/><path d=\"M17.41 7.96l-1.37-1.37c-.4-.4-.92-.59-1.43-.59-.52 0-1.04.2-1.43.59L10.3 9.45l-7.72 7.72c-.78.78-.78 2.05 0 2.83L4 21.41c.39.39.9.59 1.41.59.51 0 1.02-.2 1.41-.59l7.78-7.78 2.81-2.81c.8-.78.8-2.07 0-2.86zM5.41 20L4 18.59l7.72-7.72 1.47 1.35L5.41 20z\"/>\n",
              "  </svg>\n",
              "      </button>\n",
              "      \n",
              "  <style>\n",
              "    .colab-df-container {\n",
              "      display:flex;\n",
              "      flex-wrap:wrap;\n",
              "      gap: 12px;\n",
              "    }\n",
              "\n",
              "    .colab-df-convert {\n",
              "      background-color: #E8F0FE;\n",
              "      border: none;\n",
              "      border-radius: 50%;\n",
              "      cursor: pointer;\n",
              "      display: none;\n",
              "      fill: #1967D2;\n",
              "      height: 32px;\n",
              "      padding: 0 0 0 0;\n",
              "      width: 32px;\n",
              "    }\n",
              "\n",
              "    .colab-df-convert:hover {\n",
              "      background-color: #E2EBFA;\n",
              "      box-shadow: 0px 1px 2px rgba(60, 64, 67, 0.3), 0px 1px 3px 1px rgba(60, 64, 67, 0.15);\n",
              "      fill: #174EA6;\n",
              "    }\n",
              "\n",
              "    [theme=dark] .colab-df-convert {\n",
              "      background-color: #3B4455;\n",
              "      fill: #D2E3FC;\n",
              "    }\n",
              "\n",
              "    [theme=dark] .colab-df-convert:hover {\n",
              "      background-color: #434B5C;\n",
              "      box-shadow: 0px 1px 3px 1px rgba(0, 0, 0, 0.15);\n",
              "      filter: drop-shadow(0px 1px 2px rgba(0, 0, 0, 0.3));\n",
              "      fill: #FFFFFF;\n",
              "    }\n",
              "  </style>\n",
              "\n",
              "      <script>\n",
              "        const buttonEl =\n",
              "          document.querySelector('#df-992be70d-a88b-4904-8998-7e509d5084d7 button.colab-df-convert');\n",
              "        buttonEl.style.display =\n",
              "          google.colab.kernel.accessAllowed ? 'block' : 'none';\n",
              "\n",
              "        async function convertToInteractive(key) {\n",
              "          const element = document.querySelector('#df-992be70d-a88b-4904-8998-7e509d5084d7');\n",
              "          const dataTable =\n",
              "            await google.colab.kernel.invokeFunction('convertToInteractive',\n",
              "                                                     [key], {});\n",
              "          if (!dataTable) return;\n",
              "\n",
              "          const docLinkHtml = 'Like what you see? Visit the ' +\n",
              "            '<a target=\"_blank\" href=https://colab.research.google.com/notebooks/data_table.ipynb>data table notebook</a>'\n",
              "            + ' to learn more about interactive tables.';\n",
              "          element.innerHTML = '';\n",
              "          dataTable['output_type'] = 'display_data';\n",
              "          await google.colab.output.renderOutput(dataTable, element);\n",
              "          const docLink = document.createElement('div');\n",
              "          docLink.innerHTML = docLinkHtml;\n",
              "          element.appendChild(docLink);\n",
              "        }\n",
              "      </script>\n",
              "    </div>\n",
              "  </div>\n",
              "  "
            ]
          },
          "metadata": {},
          "execution_count": 125
        }
      ],
      "source": [
        "# The last 5 rows of the dataframe\n",
        "fundamentals.tail()"
      ]
    },
    {
      "cell_type": "code",
      "execution_count": 126,
      "metadata": {
        "ExecuteTime": {
          "end_time": "2021-10-12T17:56:12.264629Z",
          "start_time": "2021-10-12T17:56:12.069210Z"
        },
        "colab": {
          "base_uri": "https://localhost:8080/",
          "height": 415
        },
        "id": "dXv01K68JZwS",
        "outputId": "4bafde11-67a8-4917-dfef-353f4fceee7c"
      },
      "outputs": [
        {
          "output_type": "execute_result",
          "data": {
            "text/plain": [
              "            A UN Equity  AAL UW Equity  AAP UN Equity  AAPL UW Equity  \\\n",
              "date                                                                    \n",
              "2019-07-19      73.9316        34.7374        164.866        253.4083   \n",
              "2019-07-22      74.3513        34.5484        166.935        259.1997   \n",
              "2019-07-23      75.2122        35.4200        165.612        261.2261   \n",
              "2019-07-24      74.8786        36.3231        166.515        261.0134   \n",
              "2019-07-25      75.1692        33.2568        157.617        258.9495   \n",
              "\n",
              "            ABBV UN Equity  ABC UN Equity  ABMD UW Equity  ABT UN Equity  \\\n",
              "date                                                                       \n",
              "2019-07-19         88.6653       101.9727          260.47       218.8072   \n",
              "2019-07-22         87.9668       101.4123          263.97       220.2577   \n",
              "2019-07-23         87.6175       102.3185          264.67       221.9333   \n",
              "2019-07-24         87.2682       103.6063          275.94       221.5582   \n",
              "2019-07-25         86.2333       102.4616          272.21       220.0826   \n",
              "\n",
              "            ACN UN Equity  ADBE UW Equity  ...  XEL UW Equity  XLNX UW Equity  \\\n",
              "date                                       ...                                  \n",
              "2019-07-19       252.4652        331.5422  ...        63.6902        169.4363   \n",
              "2019-07-22       253.1291        333.3573  ...        63.6273        171.5491   \n",
              "2019-07-23       253.1552        332.6334  ...        63.3129        175.7608   \n",
              "2019-07-24       253.1682        335.2156  ...        63.3653        182.4720   \n",
              "2019-07-25       253.8191        333.5517  ...        63.0823        176.1889   \n",
              "\n",
              "            XOM UN Equity  XRAY UW Equity  XRX UN Equity  XYL UN Equity  \\\n",
              "date                                                                      \n",
              "2019-07-19       422.4904         66.9647       120.4010        90.4533   \n",
              "2019-07-22       422.9411         66.4448       119.4881        89.8493   \n",
              "2019-07-23       424.6313         66.7757       121.9108        91.4711   \n",
              "2019-07-24       424.5749         66.8820       123.2100        92.0975   \n",
              "2019-07-25       422.1523         65.9958       121.2788        91.3481   \n",
              "\n",
              "            YUM UN Equity  ZBH UN Equity  ZION UW Equity  ZTS UN Equity  \n",
              "date                                                                     \n",
              "2019-07-19       148.0413       131.9867         98.3103       119.7726  \n",
              "2019-07-22       149.0280       131.3025         96.4550       121.7147  \n",
              "2019-07-23       148.5544       133.4621         91.3369       121.7147  \n",
              "2019-07-24       148.2123       134.5313         92.7870       121.1898  \n",
              "2019-07-25       148.5149       132.4785         94.3651       120.3604  \n",
              "\n",
              "[5 rows x 505 columns]"
            ],
            "text/html": [
              "\n",
              "  <div id=\"df-305b4851-de72-49d9-9c5c-d3b70408398f\">\n",
              "    <div class=\"colab-df-container\">\n",
              "      <div>\n",
              "<style scoped>\n",
              "    .dataframe tbody tr th:only-of-type {\n",
              "        vertical-align: middle;\n",
              "    }\n",
              "\n",
              "    .dataframe tbody tr th {\n",
              "        vertical-align: top;\n",
              "    }\n",
              "\n",
              "    .dataframe thead th {\n",
              "        text-align: right;\n",
              "    }\n",
              "</style>\n",
              "<table border=\"1\" class=\"dataframe\">\n",
              "  <thead>\n",
              "    <tr style=\"text-align: right;\">\n",
              "      <th></th>\n",
              "      <th>A UN Equity</th>\n",
              "      <th>AAL UW Equity</th>\n",
              "      <th>AAP UN Equity</th>\n",
              "      <th>AAPL UW Equity</th>\n",
              "      <th>ABBV UN Equity</th>\n",
              "      <th>ABC UN Equity</th>\n",
              "      <th>ABMD UW Equity</th>\n",
              "      <th>ABT UN Equity</th>\n",
              "      <th>ACN UN Equity</th>\n",
              "      <th>ADBE UW Equity</th>\n",
              "      <th>...</th>\n",
              "      <th>XEL UW Equity</th>\n",
              "      <th>XLNX UW Equity</th>\n",
              "      <th>XOM UN Equity</th>\n",
              "      <th>XRAY UW Equity</th>\n",
              "      <th>XRX UN Equity</th>\n",
              "      <th>XYL UN Equity</th>\n",
              "      <th>YUM UN Equity</th>\n",
              "      <th>ZBH UN Equity</th>\n",
              "      <th>ZION UW Equity</th>\n",
              "      <th>ZTS UN Equity</th>\n",
              "    </tr>\n",
              "    <tr>\n",
              "      <th>date</th>\n",
              "      <th></th>\n",
              "      <th></th>\n",
              "      <th></th>\n",
              "      <th></th>\n",
              "      <th></th>\n",
              "      <th></th>\n",
              "      <th></th>\n",
              "      <th></th>\n",
              "      <th></th>\n",
              "      <th></th>\n",
              "      <th></th>\n",
              "      <th></th>\n",
              "      <th></th>\n",
              "      <th></th>\n",
              "      <th></th>\n",
              "      <th></th>\n",
              "      <th></th>\n",
              "      <th></th>\n",
              "      <th></th>\n",
              "      <th></th>\n",
              "      <th></th>\n",
              "    </tr>\n",
              "  </thead>\n",
              "  <tbody>\n",
              "    <tr>\n",
              "      <th>2019-07-19</th>\n",
              "      <td>73.9316</td>\n",
              "      <td>34.7374</td>\n",
              "      <td>164.866</td>\n",
              "      <td>253.4083</td>\n",
              "      <td>88.6653</td>\n",
              "      <td>101.9727</td>\n",
              "      <td>260.47</td>\n",
              "      <td>218.8072</td>\n",
              "      <td>252.4652</td>\n",
              "      <td>331.5422</td>\n",
              "      <td>...</td>\n",
              "      <td>63.6902</td>\n",
              "      <td>169.4363</td>\n",
              "      <td>422.4904</td>\n",
              "      <td>66.9647</td>\n",
              "      <td>120.4010</td>\n",
              "      <td>90.4533</td>\n",
              "      <td>148.0413</td>\n",
              "      <td>131.9867</td>\n",
              "      <td>98.3103</td>\n",
              "      <td>119.7726</td>\n",
              "    </tr>\n",
              "    <tr>\n",
              "      <th>2019-07-22</th>\n",
              "      <td>74.3513</td>\n",
              "      <td>34.5484</td>\n",
              "      <td>166.935</td>\n",
              "      <td>259.1997</td>\n",
              "      <td>87.9668</td>\n",
              "      <td>101.4123</td>\n",
              "      <td>263.97</td>\n",
              "      <td>220.2577</td>\n",
              "      <td>253.1291</td>\n",
              "      <td>333.3573</td>\n",
              "      <td>...</td>\n",
              "      <td>63.6273</td>\n",
              "      <td>171.5491</td>\n",
              "      <td>422.9411</td>\n",
              "      <td>66.4448</td>\n",
              "      <td>119.4881</td>\n",
              "      <td>89.8493</td>\n",
              "      <td>149.0280</td>\n",
              "      <td>131.3025</td>\n",
              "      <td>96.4550</td>\n",
              "      <td>121.7147</td>\n",
              "    </tr>\n",
              "    <tr>\n",
              "      <th>2019-07-23</th>\n",
              "      <td>75.2122</td>\n",
              "      <td>35.4200</td>\n",
              "      <td>165.612</td>\n",
              "      <td>261.2261</td>\n",
              "      <td>87.6175</td>\n",
              "      <td>102.3185</td>\n",
              "      <td>264.67</td>\n",
              "      <td>221.9333</td>\n",
              "      <td>253.1552</td>\n",
              "      <td>332.6334</td>\n",
              "      <td>...</td>\n",
              "      <td>63.3129</td>\n",
              "      <td>175.7608</td>\n",
              "      <td>424.6313</td>\n",
              "      <td>66.7757</td>\n",
              "      <td>121.9108</td>\n",
              "      <td>91.4711</td>\n",
              "      <td>148.5544</td>\n",
              "      <td>133.4621</td>\n",
              "      <td>91.3369</td>\n",
              "      <td>121.7147</td>\n",
              "    </tr>\n",
              "    <tr>\n",
              "      <th>2019-07-24</th>\n",
              "      <td>74.8786</td>\n",
              "      <td>36.3231</td>\n",
              "      <td>166.515</td>\n",
              "      <td>261.0134</td>\n",
              "      <td>87.2682</td>\n",
              "      <td>103.6063</td>\n",
              "      <td>275.94</td>\n",
              "      <td>221.5582</td>\n",
              "      <td>253.1682</td>\n",
              "      <td>335.2156</td>\n",
              "      <td>...</td>\n",
              "      <td>63.3653</td>\n",
              "      <td>182.4720</td>\n",
              "      <td>424.5749</td>\n",
              "      <td>66.8820</td>\n",
              "      <td>123.2100</td>\n",
              "      <td>92.0975</td>\n",
              "      <td>148.2123</td>\n",
              "      <td>134.5313</td>\n",
              "      <td>92.7870</td>\n",
              "      <td>121.1898</td>\n",
              "    </tr>\n",
              "    <tr>\n",
              "      <th>2019-07-25</th>\n",
              "      <td>75.1692</td>\n",
              "      <td>33.2568</td>\n",
              "      <td>157.617</td>\n",
              "      <td>258.9495</td>\n",
              "      <td>86.2333</td>\n",
              "      <td>102.4616</td>\n",
              "      <td>272.21</td>\n",
              "      <td>220.0826</td>\n",
              "      <td>253.8191</td>\n",
              "      <td>333.5517</td>\n",
              "      <td>...</td>\n",
              "      <td>63.0823</td>\n",
              "      <td>176.1889</td>\n",
              "      <td>422.1523</td>\n",
              "      <td>65.9958</td>\n",
              "      <td>121.2788</td>\n",
              "      <td>91.3481</td>\n",
              "      <td>148.5149</td>\n",
              "      <td>132.4785</td>\n",
              "      <td>94.3651</td>\n",
              "      <td>120.3604</td>\n",
              "    </tr>\n",
              "  </tbody>\n",
              "</table>\n",
              "<p>5 rows × 505 columns</p>\n",
              "</div>\n",
              "      <button class=\"colab-df-convert\" onclick=\"convertToInteractive('df-305b4851-de72-49d9-9c5c-d3b70408398f')\"\n",
              "              title=\"Convert this dataframe to an interactive table.\"\n",
              "              style=\"display:none;\">\n",
              "        \n",
              "  <svg xmlns=\"http://www.w3.org/2000/svg\" height=\"24px\"viewBox=\"0 0 24 24\"\n",
              "       width=\"24px\">\n",
              "    <path d=\"M0 0h24v24H0V0z\" fill=\"none\"/>\n",
              "    <path d=\"M18.56 5.44l.94 2.06.94-2.06 2.06-.94-2.06-.94-.94-2.06-.94 2.06-2.06.94zm-11 1L8.5 8.5l.94-2.06 2.06-.94-2.06-.94L8.5 2.5l-.94 2.06-2.06.94zm10 10l.94 2.06.94-2.06 2.06-.94-2.06-.94-.94-2.06-.94 2.06-2.06.94z\"/><path d=\"M17.41 7.96l-1.37-1.37c-.4-.4-.92-.59-1.43-.59-.52 0-1.04.2-1.43.59L10.3 9.45l-7.72 7.72c-.78.78-.78 2.05 0 2.83L4 21.41c.39.39.9.59 1.41.59.51 0 1.02-.2 1.41-.59l7.78-7.78 2.81-2.81c.8-.78.8-2.07 0-2.86zM5.41 20L4 18.59l7.72-7.72 1.47 1.35L5.41 20z\"/>\n",
              "  </svg>\n",
              "      </button>\n",
              "      \n",
              "  <style>\n",
              "    .colab-df-container {\n",
              "      display:flex;\n",
              "      flex-wrap:wrap;\n",
              "      gap: 12px;\n",
              "    }\n",
              "\n",
              "    .colab-df-convert {\n",
              "      background-color: #E8F0FE;\n",
              "      border: none;\n",
              "      border-radius: 50%;\n",
              "      cursor: pointer;\n",
              "      display: none;\n",
              "      fill: #1967D2;\n",
              "      height: 32px;\n",
              "      padding: 0 0 0 0;\n",
              "      width: 32px;\n",
              "    }\n",
              "\n",
              "    .colab-df-convert:hover {\n",
              "      background-color: #E2EBFA;\n",
              "      box-shadow: 0px 1px 2px rgba(60, 64, 67, 0.3), 0px 1px 3px 1px rgba(60, 64, 67, 0.15);\n",
              "      fill: #174EA6;\n",
              "    }\n",
              "\n",
              "    [theme=dark] .colab-df-convert {\n",
              "      background-color: #3B4455;\n",
              "      fill: #D2E3FC;\n",
              "    }\n",
              "\n",
              "    [theme=dark] .colab-df-convert:hover {\n",
              "      background-color: #434B5C;\n",
              "      box-shadow: 0px 1px 3px 1px rgba(0, 0, 0, 0.15);\n",
              "      filter: drop-shadow(0px 1px 2px rgba(0, 0, 0, 0.3));\n",
              "      fill: #FFFFFF;\n",
              "    }\n",
              "  </style>\n",
              "\n",
              "      <script>\n",
              "        const buttonEl =\n",
              "          document.querySelector('#df-305b4851-de72-49d9-9c5c-d3b70408398f button.colab-df-convert');\n",
              "        buttonEl.style.display =\n",
              "          google.colab.kernel.accessAllowed ? 'block' : 'none';\n",
              "\n",
              "        async function convertToInteractive(key) {\n",
              "          const element = document.querySelector('#df-305b4851-de72-49d9-9c5c-d3b70408398f');\n",
              "          const dataTable =\n",
              "            await google.colab.kernel.invokeFunction('convertToInteractive',\n",
              "                                                     [key], {});\n",
              "          if (!dataTable) return;\n",
              "\n",
              "          const docLinkHtml = 'Like what you see? Visit the ' +\n",
              "            '<a target=\"_blank\" href=https://colab.research.google.com/notebooks/data_table.ipynb>data table notebook</a>'\n",
              "            + ' to learn more about interactive tables.';\n",
              "          element.innerHTML = '';\n",
              "          dataTable['output_type'] = 'display_data';\n",
              "          await google.colab.output.renderOutput(dataTable, element);\n",
              "          const docLink = document.createElement('div');\n",
              "          docLink.innerHTML = docLinkHtml;\n",
              "          element.appendChild(docLink);\n",
              "        }\n",
              "      </script>\n",
              "    </div>\n",
              "  </div>\n",
              "  "
            ]
          },
          "metadata": {},
          "execution_count": 126
        }
      ],
      "source": [
        "# The last 5 rows of the dataframe\n",
        "prices.tail()"
      ]
    },
    {
      "cell_type": "code",
      "source": [
        "# Answer is provided in a separate file"
      ],
      "metadata": {
        "id": "iF3T-2qV5om4"
      },
      "execution_count": null,
      "outputs": []
    }
  ],
  "metadata": {
    "kernelspec": {
      "display_name": "Python 3 (ipykernel)",
      "language": "python",
      "name": "python3"
    },
    "language_info": {
      "codemirror_mode": {
        "name": "ipython",
        "version": 3
      },
      "file_extension": ".py",
      "mimetype": "text/x-python",
      "name": "python",
      "nbconvert_exporter": "python",
      "pygments_lexer": "ipython3",
      "version": "3.7.3"
    },
    "colab": {
      "name": "Quantitative_Analyst_Assessment_2021 (1).ipynb",
      "provenance": [],
      "collapsed_sections": []
    }
  },
  "nbformat": 4,
  "nbformat_minor": 0
}